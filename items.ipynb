{
  "nbformat": 4,
  "nbformat_minor": 0,
  "metadata": {
    "colab": {
      "provenance": [],
      "authorship_tag": "ABX9TyNVirjhTV+jQ2Eyd0gnLp3P",
      "include_colab_link": true
    },
    "kernelspec": {
      "name": "python3",
      "display_name": "Python 3"
    },
    "language_info": {
      "name": "python"
    }
  },
  "cells": [
    {
      "cell_type": "markdown",
      "metadata": {
        "id": "view-in-github",
        "colab_type": "text"
      },
      "source": [
        "<a href=\"https://colab.research.google.com/github/iraidaantropova/data-processing-method/blob/main/items.ipynb\" target=\"_parent\"><img src=\"https://colab.research.google.com/assets/colab-badge.svg\" alt=\"Open In Colab\"/></a>"
      ]
    },
    {
      "cell_type": "code",
      "execution_count": null,
      "metadata": {
        "id": "dYs9V-jUTY0S"
      },
      "outputs": [],
      "source": [
        "# Define here the models for your scraped items\n",
        "#\n",
        "# See documentation in:\n",
        "# https://docs.scrapy.org/en/latest/topics/items.html\n",
        "\n",
        "import scrapy\n",
        "from itemloaders.processors import MapCompose,TakeFirst,Compose\n",
        "\n",
        "\n",
        "def process_price(value):\n",
        "    money = 0\n",
        "    currency = ''\n",
        "    if value:\n",
        "        money = int(value[0].replace(' ',''))\n",
        "        currency = value[2]\n",
        "    return {'money': money, 'currency': currency}\n",
        "\n",
        "class LmParserItem(scrapy.Item):\n",
        "    # define the fields for your item here like:\n",
        "    name = scrapy.Field(output_processor=TakeFirst())\n",
        "    price = scrapy.Field(input_processor=Compose(process_price), output_processor=TakeFirst())\n",
        "    photos = scrapy.Field()\n",
        "    url = scrapy.Field(output_processor=TakeFirst())"
      ]
    }
  ]
}