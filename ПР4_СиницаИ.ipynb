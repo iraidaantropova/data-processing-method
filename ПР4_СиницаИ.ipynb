{
  "nbformat": 4,
  "nbformat_minor": 0,
  "metadata": {
    "colab": {
      "provenance": [],
      "authorship_tag": "ABX9TyPkjZoY3oegiLVVbifu3UuT",
      "include_colab_link": true
    },
    "kernelspec": {
      "name": "python3",
      "display_name": "Python 3"
    },
    "language_info": {
      "name": "python"
    }
  },
  "cells": [
    {
      "cell_type": "markdown",
      "metadata": {
        "id": "view-in-github",
        "colab_type": "text"
      },
      "source": [
        "<a href=\"https://colab.research.google.com/github/iraidaantropova/data-processing-method/blob/main/%D0%9F%D0%A04_%D0%A1%D0%B8%D0%BD%D0%B8%D1%86%D0%B0%D0%98.ipynb\" target=\"_parent\"><img src=\"https://colab.research.google.com/assets/colab-badge.svg\" alt=\"Open In Colab\"/></a>"
      ]
    },
    {
      "cell_type": "markdown",
      "source": [
        "Задание\n",
        "\n",
        "1.Развернуть у себя на компьютере/виртуальной машине MongoDB и реализовать функцию, которая будет добавлять только новые вакансии/продукты в вашу базу\n",
        "\n",
        "2.* Написать функцию, которая производит поиск и выводит на экран вакансии с заработной платой больше введенной суммы (необходимо анализировать оба поля зарплаты)\n",
        "\n",
        "3.* Любая аналитика. Например, matching вакансиий с разных площадок"
      ],
      "metadata": {
        "id": "0h9paABSiq4Q"
      }
    },
    {
      "cell_type": "code",
      "source": [
        "!apt install mongodb > log"
      ],
      "metadata": {
        "colab": {
          "base_uri": "https://localhost:8080/"
        },
        "id": "LVGOS6IMjcfl",
        "outputId": "d18b7c2a-cd4f-4fa3-ada5-32380e6e551f"
      },
      "execution_count": 1,
      "outputs": [
        {
          "output_type": "stream",
          "name": "stdout",
          "text": [
            "\n",
            "WARNING: apt does not have a stable CLI interface. Use with caution in scripts.\n",
            "\n"
          ]
        }
      ]
    },
    {
      "cell_type": "code",
      "source": [
        "!service mongodb start"
      ],
      "metadata": {
        "colab": {
          "base_uri": "https://localhost:8080/"
        },
        "id": "1GBiOg-zmPE5",
        "outputId": "a1acf52a-4fa6-49f0-f2cf-4d0cfa0fb7b8"
      },
      "execution_count": 2,
      "outputs": [
        {
          "output_type": "stream",
          "name": "stdout",
          "text": [
            " * Starting database mongodb\n",
            "   ...done.\n"
          ]
        }
      ]
    },
    {
      "cell_type": "code",
      "source": [
        "!pip install pymongo"
      ],
      "metadata": {
        "colab": {
          "base_uri": "https://localhost:8080/"
        },
        "id": "R1OOafYUmxii",
        "outputId": "9fe1817c-5653-455d-ab06-b69aa0b2d0b7"
      },
      "execution_count": 3,
      "outputs": [
        {
          "output_type": "stream",
          "name": "stdout",
          "text": [
            "Looking in indexes: https://pypi.org/simple, https://us-python.pkg.dev/colab-wheels/public/simple/\n",
            "Requirement already satisfied: pymongo in /usr/local/lib/python3.8/dist-packages (4.3.3)\n",
            "Requirement already satisfied: dnspython<3.0.0,>=1.16.0 in /usr/local/lib/python3.8/dist-packages (from pymongo) (2.2.1)\n"
          ]
        }
      ]
    },
    {
      "cell_type": "code",
      "source": [
        "from pymongo import MongoClient\n",
        "from pymongo.errors import InvalidDocument as idoc\n",
        "from bs4 import BeautifulSoup as bs\n",
        "import requests\n",
        "from pprint import pprint"
      ],
      "metadata": {
        "id": "oHSCpkhjnuRD"
      },
      "execution_count": 9,
      "outputs": []
    },
    {
      "cell_type": "code",
      "source": [
        "client = MongoClient() # Подготовим базу данных"
      ],
      "metadata": {
        "id": "tzzQ5VGFn81a"
      },
      "execution_count": 10,
      "outputs": []
    },
    {
      "cell_type": "code",
      "source": [
        "client"
      ],
      "metadata": {
        "colab": {
          "base_uri": "https://localhost:8080/"
        },
        "id": "IKx7wXzLoCzr",
        "outputId": "71129f4a-dc51-4e7a-fc62-4abbd9827159"
      },
      "execution_count": 11,
      "outputs": [
        {
          "output_type": "execute_result",
          "data": {
            "text/plain": [
              "MongoClient(host=['localhost:27017'], document_class=dict, tz_aware=False, connect=True)"
            ]
          },
          "metadata": {},
          "execution_count": 11
        }
      ]
    },
    {
      "cell_type": "code",
      "source": [
        "db = client.hr_db\n",
        "vacations = db.hh_vacations\n"
      ],
      "metadata": {
        "id": "sdA9RltsoQEm"
      },
      "execution_count": 24,
      "outputs": []
    },
    {
      "cell_type": "code",
      "source": [
        "url = 'https://hh.ru/search/vacancy'\n",
        "headers = {'User-Agent':'Mozilla/5.0 (Windows NT 6.1; Win64; x64) AppleWebKit/537.36 (KHTML, like Gecko) Chrome/106.0.0.0 YaBrowser/22.11.3.818 Yowser/2.5 Safari/537.36',    \n",
        "}"
      ],
      "metadata": {
        "id": "hLGSc4Zya1jM"
      },
      "execution_count": 34,
      "outputs": []
    },
    {
      "cell_type": "code",
      "source": [
        "def get_html(url, params=''):\n",
        "    response = requests.get(url, headers=headers, params=params)\n",
        "    return response"
      ],
      "metadata": {
        "id": "lv2tNLRDbPyH"
      },
      "execution_count": 35,
      "outputs": []
    },
    {
      "cell_type": "code",
      "source": [
        "# response = get_html(url, params={'area': '113', 'text': 'python', 'page': 0})\n",
        "\n",
        "def get_hh_content(response):\n",
        "    soup = bs(response.text, 'html.parser')\n",
        "    items = soup.find_all('div', class_='vacancy-serp-item')\n",
        "    vacancy = []\n",
        "    for item in items:\n",
        "        title = item.find('span', attrs={'class': 'resume-search-item__name'})\n",
        "        link = title.find('a').get('href')\n",
        "        city = item.find('span', attrs={'class': 'vacancy-serp-item__meta-info'}).get_text()\n",
        "        company = item.find('div', attrs={'class': 'vacancy-serp-item__meta-info-company'}).get_text()\n",
        "        try:\n",
        "            salary = item.find('div', attrs={'class': 'vacancy-serp-item__sidebar'}).get_text()\n",
        "        except:\n",
        "            salary = ''\n",
        "\n",
        "        vacancy.append(\n",
        "            {\n",
        "                'title': title.get_text(),\n",
        "                'link': link,\n",
        "                'city': city,\n",
        "                'company': company,\n",
        "                'salary': salary,\n",
        "                'site': 'HeadHunter'\n",
        "             }\n",
        "        )\n",
        "    return vacancy"
      ],
      "metadata": {
        "id": "4z2PhhtEe1qc"
      },
      "execution_count": 36,
      "outputs": []
    },
    {
      "cell_type": "code",
      "source": [
        "def edit_data_hh(vacancy):\n",
        "    for vac in vacancy:\n",
        "        # Del \\xa0\n",
        "        vac['company'] = vac['company'].replace(u'\\xa0', u' ')\n",
        "        vac['salary'] = vac['salary'].replace(u'\\u202f', u'')\n",
        "\n",
        "        # Salary (min, max, currency)\n",
        "        if vac['salary']:\n",
        "            salary_list = vac['salary'].split(' ')\n",
        "            if salary_list[0] == 'от':\n",
        "                vac['salary_min'] = float(salary_list[1])\n",
        "                vac['salary_max'] = None\n",
        "            elif salary_list[0] == 'до':\n",
        "                vac['salary_min'] = None\n",
        "                vac['salary_max'] = float(salary_list[1])\n",
        "            else:\n",
        "                vac['salary_min'] = float(salary_list[0])\n",
        "                vac['salary_max'] = float(salary_list[2])\n",
        "            vac['salary_currency'] = salary_list[-1]\n",
        "        else:\n",
        "            vac['salary_min'] = None\n",
        "            vac['salary_max'] = None\n",
        "            vac['salary_currency'] = None\n",
        "        vac.pop('salary')\n",
        "\n",
        "        # Id\n",
        "        id = vac['link'].split(sep='/')[4].split(sep='?')[0]\n",
        "        # id = id.split(sep='?')[0]\n",
        "        vac['_Id'] = id\n",
        "    return vacancy\n",
        "\n",
        "def main():\n",
        "    search_name = input('Название вакансии для поиска: ')\n",
        "    page_count = int(input('Номер страницы для поиска '))\n",
        "\n",
        "    result = []\n",
        "    for i in range(page_count):\n",
        "        print(f'Page {i+1}')\n",
        "        response = get_html(url, params={'area': '113', 'text': search_name, 'page': i})\n",
        "        vacancy = get_hh_content(response)\n",
        "        vacancy_edit = edit_data_hh(vacancy)\n",
        "        if response.ok and vacancy:\n",
        "            result.extend(vacancy_edit)\n",
        "        else:\n",
        "            break\n",
        "\n",
        "    return result\n",
        "\n",
        "result = main()\n",
        "# pprint(result)"
      ],
      "metadata": {
        "colab": {
          "base_uri": "https://localhost:8080/"
        },
        "id": "qILXWB3ubcS7",
        "outputId": "de0104ee-7369-4d8e-fb60-0a30de949396"
      },
      "execution_count": 37,
      "outputs": [
        {
          "output_type": "stream",
          "name": "stdout",
          "text": [
            "Название вакансии для поиска: администратор\n",
            "Номер страницы для поиска 1\n",
            "Page 1\n"
          ]
        }
      ]
    },
    {
      "cell_type": "code",
      "source": [
        "# Добавляем данные в монго\n",
        "def insert_mongo(result):\n",
        "    for vac in result:\n",
        "        try:\n",
        "            vacations.update_one({'_Id': vac['_Id']}, {'$set': vac}, upsert=True)\n",
        "        except idoc:\n",
        "            print(f'Error {idoc}')\n",
        "            continue\n",
        "\n",
        "insert_mongo(result)"
      ],
      "metadata": {
        "id": "QS5cbUq_cFX3"
      },
      "execution_count": 38,
      "outputs": []
    }
  ]
}