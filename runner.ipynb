{
  "nbformat": 4,
  "nbformat_minor": 0,
  "metadata": {
    "colab": {
      "provenance": [],
      "authorship_tag": "ABX9TyOA5jN8wl2Oerh0BnrQuLTi",
      "include_colab_link": true
    },
    "kernelspec": {
      "name": "python3",
      "display_name": "Python 3"
    },
    "language_info": {
      "name": "python"
    }
  },
  "cells": [
    {
      "cell_type": "markdown",
      "metadata": {
        "id": "view-in-github",
        "colab_type": "text"
      },
      "source": [
        "<a href=\"https://colab.research.google.com/github/iraidaantropova/data-processing-method/blob/main/runner.ipynb\" target=\"_parent\"><img src=\"https://colab.research.google.com/assets/colab-badge.svg\" alt=\"Open In Colab\"/></a>"
      ]
    },
    {
      "cell_type": "code",
      "execution_count": null,
      "metadata": {
        "id": "r-AcWmYZSkwn"
      },
      "outputs": [],
      "source": [
        "from twisted.internet import reactor\n",
        "from scrapy.crawler import CrawlerRunner\n",
        "from scrapy.utils.project import get_project_settings\n",
        "from scrapy.utils.log import configure_logging\n",
        "\n",
        "from lm_parser.spiders.lm import LmSpider\n",
        "\n",
        "if __name__ == '__main__':\n",
        "    configure_logging()\n",
        "    settings = get_project_settings()\n",
        "    runner = CrawlerRunner(settings)\n",
        "    runner.crawl(LmSpider, search='обои')\n",
        "\n",
        "    d = runner.join()\n",
        "    d.addBoth(lambda _: reactor.stop())\n",
        "    reactor.run()\n"
      ]
    }
  ]
}