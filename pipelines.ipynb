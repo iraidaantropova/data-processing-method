{
  "nbformat": 4,
  "nbformat_minor": 0,
  "metadata": {
    "colab": {
      "provenance": [],
      "authorship_tag": "ABX9TyP4xWsn+hwaSkJdrSIU2zcT",
      "include_colab_link": true
    },
    "kernelspec": {
      "name": "python3",
      "display_name": "Python 3"
    },
    "language_info": {
      "name": "python"
    }
  },
  "cells": [
    {
      "cell_type": "markdown",
      "metadata": {
        "id": "view-in-github",
        "colab_type": "text"
      },
      "source": [
        "<a href=\"https://colab.research.google.com/github/iraidaantropova/data-processing-method/blob/main/pipelines.ipynb\" target=\"_parent\"><img src=\"https://colab.research.google.com/assets/colab-badge.svg\" alt=\"Open In Colab\"/></a>"
      ]
    },
    {
      "cell_type": "code",
      "execution_count": null,
      "metadata": {
        "id": "6RsetlcUVkn6"
      },
      "outputs": [],
      "source": [
        "# Define your item pipelines here\n",
        "#\n",
        "# Don't forget to add your pipeline to the ITEM_PIPELINES setting\n",
        "# See: https://docs.scrapy.org/en/latest/topics/item-pipeline.html\n",
        "\n",
        "\n",
        "# useful for handling different item types with a single interface\n",
        "from itemadapter import ItemAdapter\n",
        "import scrapy\n",
        "from scrapy.pipelines.images import ImagesPipeline\n",
        "\n",
        "class LmParserPipeline:\n",
        "    def process_item(self, item, spider):\n",
        "        print()\n",
        "        return item\n",
        "\n",
        "class LmPhotosPipeline(ImagesPipeline):\n",
        "    def get_media_requests(self, item, info):\n",
        "        if item.get('photos'):\n",
        "            for img in item.get('photos'):\n",
        "                try:\n",
        "                    yield scrapy.Request(img)\n",
        "                except Exception as e:\n",
        "                    print(e)\n",
        "\n",
        "    def item_completed(self, results, item, info):\n",
        "        if results:\n",
        "            item['photos'] = [itm[1] for itm in results if itm[0]]\n",
        "        return item\n"
      ]
    }
  ]
}