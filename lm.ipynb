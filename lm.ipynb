{
  "nbformat": 4,
  "nbformat_minor": 0,
  "metadata": {
    "colab": {
      "provenance": [],
      "authorship_tag": "ABX9TyNSA3fleUiXZhvuOClTd75G",
      "include_colab_link": true
    },
    "kernelspec": {
      "name": "python3",
      "display_name": "Python 3"
    },
    "language_info": {
      "name": "python"
    }
  },
  "cells": [
    {
      "cell_type": "markdown",
      "metadata": {
        "id": "view-in-github",
        "colab_type": "text"
      },
      "source": [
        "<a href=\"https://colab.research.google.com/github/iraidaantropova/data-processing-method/blob/main/lm.ipynb\" target=\"_parent\"><img src=\"https://colab.research.google.com/assets/colab-badge.svg\" alt=\"Open In Colab\"/></a>"
      ]
    },
    {
      "cell_type": "code",
      "execution_count": null,
      "metadata": {
        "id": "Uea8FEmXRaz9"
      },
      "outputs": [],
      "source": [
        "import scrapy\n",
        "from scrapy.http import HtmlResponse\n",
        "from lm_parser.items import LmParserItem\n",
        "from scrapy.loader import ItemLoader\n",
        "\n",
        "class LmSpider(scrapy.Spider):\n",
        "    name = 'lm'\n",
        "    allowed_domains = ['leroymerlin.ru']\n",
        "\n",
        "    def __init__(self, **kwargs):\n",
        "        super().__init__(**kwargs)\n",
        "        self.start_urls = [f'https://leroymerlin.ru/search/?q={kwargs.get(\"search\")}']\n",
        "\n",
        "    def parse(self, response: HtmlResponse):\n",
        "        links = response.xpath(\"//a[@data-qa='product-name']\")\n",
        "        for link in links:\n",
        "            yield response.follow(link, callback=self.parse_lm)\n",
        "\n",
        "    def parse_lm(self, response: HtmlResponse):\n",
        "        loader = ItemLoader(item=LmParserItem(), response=response)\n",
        "        loader.add_xpath('name', \"//h1/text()\")\n",
        "        loader.add_xpath('price', \"//div//span/text()\")\n",
        "        loader.add_xpath('photos', \"//picture/img/@src | //picture/img/@data-src\")\n",
        "        loader.add_value('url', response.url)\n",
        "        yield loader.load_item()\n",
        "\n",
        "        #name = response.xpath(\"//h1/text()\").get()\n",
        "        #price = response.xpath(\"//div//span/text()\").getall()\n",
        "        #photos = response.xpath(\"//picture/img/@src | //picture/img/@data-src\").getall()\n",
        "        #url = response.url\n",
        "        #yield LmParserItem(name=name, price=price, photos=photos, url=url)\n",
        "\n",
        "\n"
      ]
    }
  ]
}