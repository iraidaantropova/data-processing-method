{
  "nbformat": 4,
  "nbformat_minor": 0,
  "metadata": {
    "colab": {
      "provenance": [],
      "authorship_tag": "ABX9TyOI+z4ikj3vqJQ+K9APSdvY",
      "include_colab_link": true
    },
    "kernelspec": {
      "name": "python3",
      "display_name": "Python 3"
    },
    "language_info": {
      "name": "python"
    }
  },
  "cells": [
    {
      "cell_type": "markdown",
      "metadata": {
        "id": "view-in-github",
        "colab_type": "text"
      },
      "source": [
        "<a href=\"https://colab.research.google.com/github/iraidaantropova/data-processing-method/blob/main/%D0%9F%D0%A01_%D0%A1%D0%B8%D0%BD%D0%B8%D1%86%D0%B0%D0%98.ipynb\" target=\"_parent\"><img src=\"https://colab.research.google.com/assets/colab-badge.svg\" alt=\"Open In Colab\"/></a>"
      ]
    },
    {
      "cell_type": "markdown",
      "source": [
        "Задание 1\n",
        "\n",
        "Посмотреть документацию к API GitHub, разобраться как вывести список репозиториев для конкретного пользователя, сохранить JSON-вывод в файле *.json."
      ],
      "metadata": {
        "id": "hDrtePediOim"
      }
    },
    {
      "cell_type": "code",
      "source": [
        "import requests\n",
        "import json"
      ],
      "metadata": {
        "id": "SUr1U5zAiPYY"
      },
      "execution_count": 22,
      "outputs": []
    },
    {
      "cell_type": "code",
      "source": [
        "url = 'https://api.github.com' \n",
        "user = 'iraidaantropova' # указываю ник пользователя, чьи репозитории буду выводить\n",
        "req = requests.get(f'{url}/users/{user}/repos')  "
      ],
      "metadata": {
        "id": "XN2KFmBZiRjj"
      },
      "execution_count": 23,
      "outputs": []
    },
    {
      "cell_type": "code",
      "source": [
        "# Записываю полученный json-вывод в файл data.json\n",
        "with open('data.json', 'w') as f:\n",
        "    json.dump(req.json(), f)"
      ],
      "metadata": {
        "id": "PO7OcoMaiT90"
      },
      "execution_count": 24,
      "outputs": []
    },
    {
      "cell_type": "code",
      "source": [
        "# Вывожу названия репозиториев\n",
        "for i in req.json():\n",
        "    print(i['name'])"
      ],
      "metadata": {
        "colab": {
          "base_uri": "https://localhost:8080/"
        },
        "id": "kGBm_KVziY5s",
        "outputId": "17774332-0cdf-46a0-e49e-651a2a9e8575"
      },
      "execution_count": 25,
      "outputs": [
        {
          "output_type": "stream",
          "name": "stdout",
          "text": [
            "data-processing-method\n",
            "lib_python\n",
            "python\n"
          ]
        }
      ]
    },
    {
      "cell_type": "markdown",
      "source": [
        "Задание 2\n",
        "\n",
        "Изучить список открытых API (https://www.programmableweb.com/category/all/apis). Найти среди них любое, требующее авторизацию (любого типа). Выполнить запросы к нему, пройдя авторизацию. Ответ сервера записать в файл. Если нет желания заморачиваться с поиском, возьмите API вконтакте (https://vk.com/dev/first_guide). Сделайте запрос, чтобы получить список всех сообществ на которые вы подписаны."
      ],
      "metadata": {
        "id": "Z0Cwcg-riaDr"
      }
    },
    {
      "cell_type": "code",
      "source": [
        "params = {\n",
        "    'user_id': '8220054', #id пользователя, список сообществ которого смотрю\n",
        "    'extended':'0',\n",
        "    'access_token':'[mytoken]', #токен и приложение делала согласно документации api\n",
        "    'v':'5.131' #используемая версия api\n",
        "}\n",
        "url='https://api.vk.com/method/groups.get' \n",
        "r = requests.get(url=url, params=params)\n",
        "print(r.status_code)\n",
        "\n",
        "with open('data7.json', 'w') as d:\n",
        "    json.dump(r.json(), d)"
      ],
      "metadata": {
        "colab": {
          "base_uri": "https://localhost:8080/"
        },
        "id": "4wtm3JhPikl2",
        "outputId": "b6c3bf9d-a617-47a8-fea8-7b099018e040"
      },
      "execution_count": 27,
      "outputs": [
        {
          "output_type": "stream",
          "name": "stdout",
          "text": [
            "200\n"
          ]
        }
      ]
    }
  ]
}