{
  "nbformat": 4,
  "nbformat_minor": 0,
  "metadata": {
    "colab": {
      "provenance": [],
      "authorship_tag": "ABX9TyNY89ABiWFj0zHeWDIF6NpN",
      "include_colab_link": true
    },
    "kernelspec": {
      "name": "python3",
      "display_name": "Python 3"
    },
    "language_info": {
      "name": "python"
    }
  },
  "cells": [
    {
      "cell_type": "markdown",
      "metadata": {
        "id": "view-in-github",
        "colab_type": "text"
      },
      "source": [
        "<a href=\"https://colab.research.google.com/github/iraidaantropova/data-processing-method/blob/main/%D0%9F%D0%A03_%D0%A1%D0%B8%D0%BD%D0%B8%D1%86%D0%B0_%D0%98.ipynb\" target=\"_parent\"><img src=\"https://colab.research.google.com/assets/colab-badge.svg\" alt=\"Open In Colab\"/></a>"
      ]
    },
    {
      "cell_type": "markdown",
      "source": [
        "Собрать информацию о вакансиях на вводимую должность с сайтов hh.ru и/или Superjob и/или работа.ру. Приложение должно анализировать несколько страниц сайта. Получившийся список должен содержать в себе минимум:\n",
        "\n",
        "1. Наименование вакансии\n",
        "\n",
        "2. Предлагаемую зарплату (дополнительно: \n",
        "\n",
        "3. Ссылку на саму вакансию \n",
        "\n",
        "4. Сайт, откуда собрана вакансия\n",
        "\n"
      ],
      "metadata": {
        "id": "txszFd_JApIx"
      }
    },
    {
      "cell_type": "code",
      "source": [
        "#pip install requests\n",
        "#pip install lxml\n",
        "#pip install bs4\n",
        "from bs4 import BeautifulSoup\n",
        "import requests\n"
      ],
      "metadata": {
        "id": "Gi1f-pkyHkA9"
      },
      "execution_count": null,
      "outputs": []
    },
    {
      "cell_type": "code",
      "source": [
        "from bs4 import BeautifulSoup as bs\n",
        "from pprint import pprint\n",
        "import requests\n"
      ],
      "metadata": {
        "id": "gHUzZQJKDlHK"
      },
      "execution_count": null,
      "outputs": []
    },
    {
      "cell_type": "code",
      "source": [
        "url ='https://ulv.rabota.ru/'\n",
        "headers = {'User-Agent': 'Mozilla/5.0 (Windows NT 10.0; Win64; x64) AppleWebKit/537.36 (KHTML, like Gecko) Chrome/106.0.0.0 YaBrowser/22.11.3.818 Yowser/2.5 Safari/537.36',}\n",
        "response = requests.get(url,headers=headers)\n",
        "soup = bs (response.content, 'html.parser')\n",
        "\n",
        "print(response.status_code)"
      ],
      "metadata": {
        "colab": {
          "base_uri": "https://localhost:8080/"
        },
        "id": "x3Xu01i-D-b5",
        "outputId": "70f81c7d-825c-4662-f7bc-2750c6d9113c"
      },
      "execution_count": null,
      "outputs": [
        {
          "output_type": "stream",
          "name": "stdout",
          "text": [
            "200\n"
          ]
        }
      ]
    },
    {
      "cell_type": "code",
      "source": [
        "allvacancies = soup.find_all('article')\n",
        "print(len(allvacancies))"
      ],
      "metadata": {
        "id": "ty0GSJ0tiv3i",
        "colab": {
          "base_uri": "https://localhost:8080/"
        },
        "outputId": "f041e41d-2e86-4c0b-d08f-b1a647791643"
      },
      "execution_count": null,
      "outputs": [
        {
          "output_type": "stream",
          "name": "stdout",
          "text": [
            "20\n"
          ]
        }
      ]
    },
    {
      "cell_type": "code",
      "source": [
        "vacancie=allvacancies[2]"
      ],
      "metadata": {
        "id": "Xyl-s_oei2MW"
      },
      "execution_count": null,
      "outputs": []
    },
    {
      "cell_type": "code",
      "source": [
        "title = vacancie.find('h3').find('a').text\n",
        "print (title)"
      ],
      "metadata": {
        "colab": {
          "base_uri": "https://localhost:8080/"
        },
        "id": "r811rcaN38mM",
        "outputId": "82ab8e7f-3115-4591-f25f-3d078573b826"
      },
      "execution_count": null,
      "outputs": [
        {
          "output_type": "stream",
          "name": "stdout",
          "text": [
            "\n",
            "              Менеджер по работе с клиентами\n",
            "            \n"
          ]
        }
      ]
    },
    {
      "cell_type": "code",
      "source": [
        "salary = vacancie.select_one('div[class=vacancy-preview-card__salary] a[class*='']').text\n",
        "print(salary)"
      ],
      "metadata": {
        "id": "J1tOLpkTXtMA",
        "colab": {
          "base_uri": "https://localhost:8080/"
        },
        "outputId": "788b2e83-0ad2-48d9-a476-ebdb841b6ea4"
      },
      "execution_count": null,
      "outputs": [
        {
          "output_type": "stream",
          "name": "stdout",
          "text": [
            "50 000 — 150 000 руб.\n"
          ]
        }
      ]
    },
    {
      "cell_type": "code",
      "source": [
        " for link in soup.find_all(class_='vacancy-preview-card__title_border'):\n",
        "    print(link.get('href'))"
      ],
      "metadata": {
        "colab": {
          "base_uri": "https://localhost:8080/"
        },
        "id": "qOna3a-5FJHN",
        "outputId": "ea3d5206-14d6-45bc-a56b-08911781b828"
      },
      "execution_count": null,
      "outputs": [
        {
          "output_type": "stream",
          "name": "stdout",
          "text": [
            "/vacancy/46864728/?search_id=1672069877683k2ezy2vimdd\n",
            "/vacancy/47172701/?search_id=1672069877683k2ezy2vimdd\n",
            "/vacancy/43595334/?search_id=1672069877683k2ezy2vimdd\n",
            "/vacancy/47129118/?search_id=1672069877683k2ezy2vimdd\n",
            "/vacancy/45423121/?search_id=1672069877683k2ezy2vimdd\n",
            "/vacancy/45382034/?search_id=1672069877683k2ezy2vimdd\n",
            "/vacancy/47185463/?search_id=1672069877683k2ezy2vimdd\n",
            "/vacancy/47184725/?search_id=1672069877683k2ezy2vimdd\n",
            "/vacancy/47196680/?search_id=1672069877683k2ezy2vimdd\n",
            "/vacancy/47121605/?search_id=1672069877683k2ezy2vimdd\n",
            "/vacancy/47121554/?search_id=1672069877683k2ezy2vimdd\n",
            "/vacancy/46937108/?search_id=1672069877683k2ezy2vimdd\n",
            "/vacancy/47121797/?search_id=1672069877683k2ezy2vimdd\n",
            "/vacancy/39925140/?search_id=1672069877683k2ezy2vimdd\n",
            "/vacancy/47122570/?search_id=1672069877683k2ezy2vimdd\n",
            "/vacancy/45262808/?search_id=1672069877683k2ezy2vimdd\n",
            "/vacancy/47122865/?search_id=1672069877683k2ezy2vimdd\n",
            "/vacancy/47123116/?search_id=1672069877683k2ezy2vimdd\n",
            "/vacancy/46587196/?search_id=1672069877683k2ezy2vimdd\n",
            "/vacancy/47125674/?search_id=1672069877683k2ezy2vimdd\n"
          ]
        }
      ]
    }
  ]
}