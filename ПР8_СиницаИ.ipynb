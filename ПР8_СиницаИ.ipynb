{
  "nbformat": 4,
  "nbformat_minor": 0,
  "metadata": {
    "colab": {
      "provenance": [],
      "authorship_tag": "ABX9TyNnfMxRVpXrS/xb+LYVILzn",
      "include_colab_link": true
    },
    "kernelspec": {
      "name": "python3",
      "display_name": "Python 3"
    },
    "language_info": {
      "name": "python"
    }
  },
  "cells": [
    {
      "cell_type": "markdown",
      "metadata": {
        "id": "view-in-github",
        "colab_type": "text"
      },
      "source": [
        "<a href=\"https://colab.research.google.com/github/iraidaantropova/data-processing-method/blob/main/%D0%9F%D0%A08_%D0%A1%D0%B8%D0%BD%D0%B8%D1%86%D0%B0%D0%98.ipynb\" target=\"_parent\"><img src=\"https://colab.research.google.com/assets/colab-badge.svg\" alt=\"Open In Colab\"/></a>"
      ]
    },
    {
      "cell_type": "markdown",
      "source": [
        "Задание \n",
        "\n",
        "Поработать с аутентификацией через scrapy \n",
        "\n",
        "Если вы живете не в РФ, то можно за основу взять готовый приложенный код, и собрать список подписчиков\n",
        "\n",
        "Как альтернатива любой другой сайт с аутентификацией и где можно собрать какую-нибудь простую информацию\n"
      ],
      "metadata": {
        "id": "imARboJphXXs"
      }
    },
    {
      "cell_type": "code",
      "source": [
        "import scrapy\n",
        "from scrapy import FormRequest\n",
        "from scrapy.http import HtmlResponse\n",
        "\n",
        "\n",
        "class GbSpider(scrapy.Spider):\n",
        "    name = 'gb'\n",
        "    allowed_domains = ['gb.ru']\n",
        "    start_urls = ['https://gb.ru/login']\n",
        "\n",
        "    def parse(self, response: HtmlResponse):\n",
        "        csrf_token = response.xpath('//meta[@name = \"csrf_token\"]/@content').get()\n",
        "        yield FormRequest.from_response(\n",
        "            response,\n",
        "            formdata={\n",
        "                'csrf_token': csrf_token,\n",
        "                'username': 'student.geek@bk.ru',\n",
        "                'password': 'Fp7-VNF-GLP-ZqM'\n",
        "                },\n",
        "            callback=self.after_login)\n",
        "\n",
        "    def after_login(self, response):\n",
        "        banners = response.xpath(\"//*[@id='revive-0-1']/div[1]/a[1]/img()\")\n",
        "        print()\n",
        "\n"
      ],
      "metadata": {
        "id": "A0Ry6udGmwwj"
      },
      "execution_count": null,
      "outputs": []
    }
  ]
}