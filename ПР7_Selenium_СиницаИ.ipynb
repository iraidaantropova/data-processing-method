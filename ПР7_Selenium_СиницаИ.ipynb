{
  "nbformat": 4,
  "nbformat_minor": 0,
  "metadata": {
    "colab": {
      "provenance": [],
      "authorship_tag": "ABX9TyMj3OHvqH7lxOVUzyZT2RqF",
      "include_colab_link": true
    },
    "kernelspec": {
      "name": "python3",
      "display_name": "Python 3"
    },
    "language_info": {
      "name": "python"
    }
  },
  "cells": [
    {
      "cell_type": "markdown",
      "metadata": {
        "id": "view-in-github",
        "colab_type": "text"
      },
      "source": [
        "<a href=\"https://colab.research.google.com/github/iraidaantropova/data-processing-method/blob/main/%D0%9F%D0%A07_Selenium_%D0%A1%D0%B8%D0%BD%D0%B8%D1%86%D0%B0%D0%98.ipynb\" target=\"_parent\"><img src=\"https://colab.research.google.com/assets/colab-badge.svg\" alt=\"Open In Colab\"/></a>"
      ]
    },
    {
      "cell_type": "markdown",
      "source": [
        "Вариант I\n",
        "\n",
        "Написать программу, которая собирает входящие письма из своего или тестового почтового ящика и сложить данные о письмах в базу данных \n",
        "(от кого, дата отправки, тема письма, текст письма полный)"
      ],
      "metadata": {
        "id": "4PNruldp2zFA"
      }
    },
    {
      "cell_type": "code",
      "source": [
        "from selenium import webdriver\n",
        "from selenium.webdriver.common.keys import Keys\n",
        "from selenium.webdriver.chrome.options import Options\n",
        "from selenium.webdriver.support.ui import WebDriverWait\n",
        "from selenium.webdriver.support import expected_conditions as EC\n",
        "from selenium.webdriver.common.by import By\n",
        "from selenium.webdriver.common.action_chains import ActionChains\n",
        "from pymongo import  MongoClient\n",
        "import re\n",
        "import time\n",
        "\n",
        "chrome_options = Options()\n",
        "chrome_options.add_argument('start-maximized')\n",
        "\n",
        "driver = webdriver.Chrome(options=chrome_options)\n",
        "driver.get('https://mail.ru/login') #захожу на сайт\n",
        "print(driver.title)\n",
        "assert \"No results found.\" not in driver.page_source\n",
        "\n",
        "auth_form = driver.find_element_by_id('auth-form')\n",
        "iframe = auth_form.find_element_by_tag_name('iframe')\n",
        "driver.switch_to.frame(iframe)\n",
        "\n",
        "username = WebDriverWait(driver, 10).until(EC.presence_of_element_located((By.NAME, 'username')))\n",
        "username.send_keys(\"student.geek@bk.ru\", Keys.ENTER)\n",
        "password = WebDriverWait(driver, 10).until(EC.presence_of_element_located((By.NAME, 'password')))\n",
        "driver.implicitly_wait(1)\n",
        "password.send_keys(\"83u-Qzq-bcg-Nw9\", Keys.ENTER)\n",
        "\n",
        "driver.switch_to.default_content()\n",
        "driver.implicitly_wait(10)\n",
        "\n",
        "# Считаю сколько писем в ящике\n",
        "inbox_element = WebDriverWait(driver, 30).until(EC.visibility_of_element_located((By.CLASS_NAME,'nav__item_active')))\n",
        "title = inbox_element.get_attribute('title')\n",
        "regex = r\"Входящие, (\\d*) \"\n",
        "count_emails = int(re.search(regex, title).group(1))\n",
        "print(f\"Всего писем: {count_emails}\")\n",
        "\n",
        "# Собираю список ссылок на письма\n",
        "urls_marker = WebDriverWait(driver, 30).until(\n",
        "    EC.visibility_of_element_located((By.CLASS_NAME,'js-letter-list-item')))\n",
        "url_list = driver.find_elements_by_class_name('js-letter-list-item')\n",
        "url_set = set()\n",
        "\n",
        "for a in url_list:\n",
        "    url_set.add(a.get_attribute('href'))\n",
        "\n",
        "while len(url_set) != count_emails:\n",
        "    actions = ActionChains(driver)\n",
        "    actions.move_to_element(url_list[-1])\n",
        "    actions.perform()\n",
        "    time.sleep(1)\n",
        "    url_list = driver.find_elements_by_class_name('js-letter-list-item')\n",
        "    for a in url_list:\n",
        "        url_set.add(a.get_attribute('href'))\n",
        "    print(f\"Собрано URL'ов: {len(url_set)}\")\n",
        "\n",
        "# Открываем каждое письмо и смотрим содержимое\n",
        "emails = []\n",
        "for a in url_set:\n",
        "    driver.get(a)\n",
        "    letter_author_wrapper = WebDriverWait(driver, 30).until(\n",
        "        EC.presence_of_element_located((By.CLASS_NAME, 'letter__author'))\n",
        "    )\n",
        "    email = {\n",
        "        'letter_author': letter_author_wrapper.find_element_by_class_name('letter-contact').get_attribute('title'),\n",
        "        'letter_date': letter_author_wrapper.find_element_by_class_name('letter__date').text,\n",
        "        'letter_title': driver.find_element_by_class_name('thread__subject-line').text,\n",
        "        'letter_body': driver.find_element_by_class_name('letter-body').text\n",
        "    }\n",
        "    emails.append(email)\n",
        "    print(f\"Обработана ссылка: {a}\")\n",
        "\n",
        "# Сохраняем в Базу данных\n",
        "client = MongoClient('127.0.0.1', 27017)\n",
        "db = client['emails']\n",
        "db.inbox.insert_many(emails)\n"
      ],
      "metadata": {
        "id": "vMe22ntL217b"
      },
      "execution_count": null,
      "outputs": []
    }
  ]
}