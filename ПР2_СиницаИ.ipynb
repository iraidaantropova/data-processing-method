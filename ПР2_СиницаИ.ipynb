{
  "nbformat": 4,
  "nbformat_minor": 0,
  "metadata": {
    "colab": {
      "provenance": [],
      "authorship_tag": "ABX9TyOGyT+n9nl8q+5r6sGk8wLr",
      "include_colab_link": true
    },
    "kernelspec": {
      "name": "python3",
      "display_name": "Python 3"
    },
    "language_info": {
      "name": "python"
    }
  },
  "cells": [
    {
      "cell_type": "markdown",
      "metadata": {
        "id": "view-in-github",
        "colab_type": "text"
      },
      "source": [
        "<a href=\"https://colab.research.google.com/github/iraidaantropova/data-processing-method/blob/main/%D0%9F%D0%A02_%D0%A1%D0%B8%D0%BD%D0%B8%D1%86%D0%B0%D0%98.ipynb\" target=\"_parent\"><img src=\"https://colab.research.google.com/assets/colab-badge.svg\" alt=\"Open In Colab\"/></a>"
      ]
    },
    {
      "cell_type": "markdown",
      "source": [
        "Задание\n",
        "\n",
        "Написать приложение/функцию, которые собирают основные новости с сайта на выбор lenta.ru или yandex-новости. Для парсинга использовать XPath\n",
        "\n",
        "Структура данных должна содержать:\n",
        "\n",
        "-название источника\n",
        "\n",
        "-наименование новости\n",
        "\n",
        "-ссылку на новость\n",
        "\n",
        "-дата публикации"
      ],
      "metadata": {
        "id": "auDsI7Hk-ayr"
      }
    },
    {
      "cell_type": "code",
      "source": [
        "#pip install lxml\n",
        "#pip install requests"
      ],
      "metadata": {
        "id": "J-xppuQBXpyt"
      },
      "execution_count": null,
      "outputs": []
    },
    {
      "cell_type": "code",
      "source": [
        "from pprint import pprint\n",
        "from lxml import html\n",
        "import requests"
      ],
      "metadata": {
        "id": "L8DzAfC6_a8N"
      },
      "execution_count": null,
      "outputs": []
    },
    {
      "cell_type": "code",
      "source": [
        "url = 'https://lenta.ru' # Название источника\n",
        "headers = {'User-Agent':'Mozilla/5.0 (Windows NT 6.1; Win64; x64) AppleWebKit/537.36 (KHTML, like Gecko) Chrome/108.0.0.0 Safari/537.36',    \n",
        "}\n",
        "response = requests.get(url,headers=headers)\n"
      ],
      "metadata": {
        "id": "9wCXRbgK_s6O"
      },
      "execution_count": null,
      "outputs": []
    },
    {
      "cell_type": "code",
      "source": [
        "dom = html.fromstring(response.text)"
      ],
      "metadata": {
        "id": "heQ2T4WIA6oi"
      },
      "execution_count": null,
      "outputs": []
    },
    {
      "cell_type": "code",
      "source": [
        "link_list_1 = dom.xpath('//div[2]/div[2]/a/@href')"
      ],
      "metadata": {
        "id": "JjN1FWFRKfNU"
      },
      "execution_count": null,
      "outputs": []
    },
    {
      "cell_type": "code",
      "source": [
        "link_list_1 #ссылки на новости из раздела \"Главные новости\""
      ],
      "metadata": {
        "colab": {
          "base_uri": "https://localhost:8080/"
        },
        "id": "mkZnDJvKKr3D",
        "outputId": "cf10c3bc-91f9-469b-fadd-8fbcf1e4163b"
      },
      "execution_count": null,
      "outputs": [
        {
          "output_type": "execute_result",
          "data": {
            "text/plain": [
              "['/news/2022/12/22/rogozzin/',\n",
              " '/news/2022/12/22/dialog/',\n",
              " '/news/2022/12/22/milk/',\n",
              " '/news/2022/12/21/shoigu_vozrast/',\n",
              " '/news/2022/12/21/gruppirovka/',\n",
              " '/news/2022/12/21/sarm/',\n",
              " '/news/2022/12/21/mobilisation/',\n",
              " '/news/2022/12/21/sevpot_russia/',\n",
              " '/news/2022/12/21/medvedevv/',\n",
              " '/news/2022/12/22/fksvt/',\n",
              " '/news/2022/12/22/investigtion/',\n",
              " '/news/2022/12/22/headphones/',\n",
              " '/articles/2022/12/20/appoy/']"
            ]
          },
          "metadata": {},
          "execution_count": 106
        }
      ]
    },
    {
      "cell_type": "code",
      "source": [
        "link_list_2 = dom.xpath('//div[2]/div[2]/a//span/text()') #Наименование новостей из раздела \"Главные новости\"\n",
        "link_list_2\n",
        "\n"
      ],
      "metadata": {
        "colab": {
          "base_uri": "https://localhost:8080/"
        },
        "id": "RE1u7BFsCbX_",
        "outputId": "f7132165-405d-4f23-8ef9-27ade2bc55ea"
      },
      "execution_count": null,
      "outputs": [
        {
          "output_type": "execute_result",
          "data": {
            "text/plain": [
              "['Дмитрия Рогозина ранили при обстреле Донецка со стороны ВСУ',\n",
              " 'Байден заявил об открытости Зеленского к диалогу о мире',\n",
              " 'В Москве отремонтировали 21 молочно-раздаточный пункт',\n",
              " 'Шойгу предложил изменить призывной возраст',\n",
              " 'Шойгу анонсировал создание новой группировки войск на северо-западе России',\n",
              " 'Россия начала развертывание «Сарматов»',\n",
              " 'Путин заявил о проблемах при проведении частичной мобилизации',\n",
              " 'Запад не нашел доказательств виновности России во взрывах на «Северных потоках»',\n",
              " 'Си Цзиньпин встретился с Медведевым',\n",
              " 'Политологи указали на обман «Совета матерей и жен»',\n",
              " 'Названа причина замедления расследования диверсий на «Северных потоках»',\n",
              " 'В России выросли продажи поддельных наушников',\n",
              " ' Каким войдет в историю 2022 год?']"
            ]
          },
          "metadata": {},
          "execution_count": 107
        }
      ]
    },
    {
      "cell_type": "code",
      "source": [
        "link_list_3 = dom.xpath('//div[1]/div[2]/a/@href') #ссылки на новости из основго раздела\n",
        "link_list_3"
      ],
      "metadata": {
        "colab": {
          "base_uri": "https://localhost:8080/"
        },
        "id": "U1u5izLxKmb1",
        "outputId": "96dda6c9-ddda-4a31-9ed0-88741f77ef81"
      },
      "execution_count": null,
      "outputs": [
        {
          "output_type": "execute_result",
          "data": {
            "text/plain": [
              "['/news/2022/12/22/vmoji/',\n",
              " '/news/2022/12/21/il/',\n",
              " '/news/2022/12/22/for_mum/',\n",
              " '/news/2022/12/22/fire/',\n",
              " 'https://moslenta.ru/news/lyudi/45-letnyaya-anfisa-chekhova-22-12-2022.htm/',\n",
              " '/articles/2022/12/14/avatar2/',\n",
              " '/news/2022/12/22/mars/',\n",
              " '/news/2022/12/22/otkrytvtb/',\n",
              " '/news/2022/12/22/zhdem/',\n",
              " '/articles/2022/12/22/vampires/',\n",
              " '/articles/2022/12/22/holidays/',\n",
              " '/news/2022/12/22/mid_tsiferki/',\n",
              " '/news/2022/12/22/peskovv/',\n",
              " '/news/2022/12/22/otkat/',\n",
              " 'https://lenta.ru/extlink/2022/12/20/roditsya-za-reshyotkoi/',\n",
              " '/articles/2022/12/21/verdict/',\n",
              " '/news/2022/12/22/snegurovsky/',\n",
              " '/news/2022/12/22/pevci/',\n",
              " '/news/2022/12/22/chepa/']"
            ]
          },
          "metadata": {},
          "execution_count": 108
        }
      ]
    },
    {
      "cell_type": "code",
      "source": [
        "link_list_4 = dom.xpath('//div[1]/div[2]/a//span/text()') #Наименование новостей из основного раздела\n",
        "link_list_4"
      ],
      "metadata": {
        "colab": {
          "base_uri": "https://localhost:8080/"
        },
        "id": "QmBbrQKSMBVv",
        "outputId": "409006c1-5530-4cbd-91d5-9242a72b6783"
      },
      "execution_count": null,
      "outputs": [
        {
          "output_type": "execute_result",
          "data": {
            "text/plain": [
              "['«ВКонтакте» представил уникальную функцию для видеозвонков',\n",
              " 'В иле нашли перспективные для сельского хозяйства соединения',\n",
              " 'Российский миллиардер переписал на мать построенный для Наоми Кэмпбелл дом',\n",
              " 'Российские военные поразили подразделения ВСУ огневым налетом',\n",
              " '45-летняя Анфиса Чехова опубликовала пляжное фото',\n",
              " ' В мировой прокат выходит новый «Аватар» Джеймса Кэмерона. Чего от него ждать?',\n",
              " 'Ветер на Марсе оказался достаточно сильным для ветряных турбин',\n",
              " 'Центробанк продаст «Открытие» ВТБ',\n",
              " 'В Кремле сообщили о продолжении согласования ответа на потолок цен',\n",
              " ' Выходит второй сезон полюбившихся россиянам «Вампиров средней полосы». Почему это провал?',\n",
              " ' производственный календарь на 2023 год',\n",
              " 'В МИД назвали суммарные военные расходы США и ЕС на Украину',\n",
              " 'Кремль прокомментировал поставки западных вооружений Украине',\n",
              " 'Назван срок отката курса доллара после роста',\n",
              " ' Как беременные и женщины с младенцами на руках мотают срок в российских тюрьмах',\n",
              " ' Журналистская госизмена, депутат с рекордной взяткой и врачи-убийцы: главные приговоры 2022 года',\n",
              " 'Арестович сообщил о гибели своего друга под Артемовском',\n",
              " 'Россияне назвали лучших певцов 2022 года',\n",
              " 'В России отреагировали на визит Зеленского в США']"
            ]
          },
          "metadata": {},
          "execution_count": 109
        }
      ]
    }
  ]
}